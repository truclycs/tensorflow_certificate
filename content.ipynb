{
 "cells": [
  {
   "cell_type": "markdown",
   "metadata": {
    "id": "HCwIDl3nCyBt"
   },
   "source": [
    "1. **Linear Regression**\n",
    "\n",
    "2. **Phân loại**: MNIST, Fashion MNIST, IRIS, chú ý đề có thể cho tf.dataset nên ôn kỹ phần load dataset (), nhớ chia ảnh đầu vào cho 255\n",
    "\t\n",
    "https://www.tensorflow.org/api_docs/python/tf/data/Dataset\n",
    "\n",
    "https://www.tensorflow.org/datasets/keras_example\n",
    "\n",
    "\n",
    "https://youtu.be/8WxENdR46qA\n",
    "\n",
    "\n",
    "3. **Phân loại ảnh load từ tf.dataset** có thể là chó mèo, ngựa người, nhớ sử dụng transfer learning. Đề bài có thể yêu cầu resize ảnh về kích thước nào đó (ví dụ 224x224x3) và rescale input về khoảng [-1, 1]. Thực hiện resize và rescale ảnh trong hàm map\n",
    "\tChú ý phân loại nhị phân nhưng đề bài có thể yêu cầu lớp cuối cùng của model phải sử dụng hàm softmax(thay vì sigmoid), vì vậy cần chọn làm loss phù hợp vs hàm softmax\n",
    "\n",
    "Chó mèo:\n",
    "https://youtu.be/kShvYHDXvvg\n",
    "\n",
    "Ngựa người:\n",
    " https://youtu.be/ee9tF9xEf04\n",
    "\n",
    "Dao búa kéo:\n",
    "https://www.tensorflow.org/datasets/catalog/rock_paper_scissors\n",
    "\n",
    "\tTham khảo cách sử dung hàm map\n",
    " https://www.tensorflow.org/api_docs/python/tf/data/Dataset#map\n",
    "\n",
    "\tCách resize ảnh, rescale input và transfer learning có thể tham khảo:\n",
    " https://www.tensorflow.org/tutorials/images/transfer_learning\n",
    "\n",
    "https://youtu.be/Y-4KLFt_c6Y\n",
    "\n",
    "\tBài sử dụng transfer learning có thể có kết quả khi submit là 2/5, 3/5, …. Vì vậy nên submit nhiều lần. Nếu đạt từ 4/5 trở lên thì có thể làm bài khác (áp dụng với tất cả các bài)\n",
    "\n",
    "4. **RNN, sentiment classification**, chú ý sử dụng tokenizer + padding,\n",
    "có thể là phân loại cảm xúc câu,  Detecting sarcasm (chưa đổi đề), …\n",
    "https://youtu.be/JIafLwlGzBA\n",
    "\n",
    "https://youtu.be/daau1gVceOs\n",
    "\n",
    "https://youtu.be/X6bYTZJkEDQ\n",
    "\n",
    "\n",
    "\n",
    "5. Một bài **Time-series** có thể là Sunspot trên coursera (chưa đổi đề)\n",
    "\n",
    "https://github.com/lmoroney/dlaicourse/blob/master/TensorFlow%20In%20Practice/Course%204%20-%20S%2BP/S%2BP%20Week%204%20Exercise%20Answer.ipynb\n",
    "\n",
    "\n",
    "Có thể dùng colab trên xong submit h5. :)). MAE < 0.12\n",
    "\n",
    "\n",
    "\n",
    "Tài liệu chuẩn bị:\n",
    "\thttps://www.youtube.com/watch?v=j5HxIJoOJms&list=PLMm4sOMuA2QI5x_0KlNT3LuKDi6-ByboB\n",
    "\n",
    "\thttps://www.coursera.org/specializations/tensorflow-in-practice\n",
    "\n",
    "\thttps://github.com/lmoroney/dlaicourse"
   ]
  }
 ],
 "metadata": {
  "colab": {
   "authorship_tag": "ABX9TyMz1f14dOB57mO69QodNlQK",
   "collapsed_sections": [],
   "name": "content.ipynb",
   "provenance": []
  },
  "kernelspec": {
   "display_name": "Python 3",
   "language": "python",
   "name": "python3"
  },
  "language_info": {
   "codemirror_mode": {
    "name": "ipython",
    "version": 3
   },
   "file_extension": ".py",
   "mimetype": "text/x-python",
   "name": "python",
   "nbconvert_exporter": "python",
   "pygments_lexer": "ipython3",
   "version": "3.7.6"
  }
 },
 "nbformat": 4,
 "nbformat_minor": 4
}

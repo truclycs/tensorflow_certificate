{
 "cells": [
  {
   "cell_type": "code",
   "execution_count": 13,
   "metadata": {
    "executionInfo": {
     "elapsed": 3428,
     "status": "ok",
     "timestamp": 1609008675822,
     "user": {
      "displayName": "Ly Nguyen",
      "photoUrl": "https://lh3.googleusercontent.com/a-/AOh14Gj1nBUdqgyGPrTg8lXGC8cHEEjZ06cg4eNIe54J=s64",
      "userId": "01585632328413993117"
     },
     "user_tz": -420
    },
    "id": "YP81FJ_9xycY"
   },
   "outputs": [],
   "source": [
    "!pip install -q Pillow"
   ]
  },
  {
   "cell_type": "code",
   "execution_count": 14,
   "metadata": {
    "executionInfo": {
     "elapsed": 3432,
     "status": "ok",
     "timestamp": 1609008675830,
     "user": {
      "displayName": "Ly Nguyen",
      "photoUrl": "https://lh3.googleusercontent.com/a-/AOh14Gj1nBUdqgyGPrTg8lXGC8cHEEjZ06cg4eNIe54J=s64",
      "userId": "01585632328413993117"
     },
     "user_tz": -420
    },
    "id": "k9gBz5uxjCOi"
   },
   "outputs": [],
   "source": [
    "import os\n",
    "\n",
    "import numpy as np\n",
    "import tensorflow as tf\n",
    "import tensorflow_hub as hub\n",
    "import matplotlib.pyplot as plt\n",
    "from PIL import Image\n",
    "from tensorflow.keras.preprocessing.image import ImageDataGenerator"
   ]
  },
  {
   "cell_type": "markdown",
   "metadata": {
    "id": "zBNuWa8qCHy_"
   },
   "source": [
    "## Data gathering"
   ]
  },
  {
   "cell_type": "code",
   "execution_count": null,
   "metadata": {
    "colab": {
     "base_uri": "https://localhost:8080/"
    },
    "id": "fCZk45_UwOUm",
    "outputId": "8169336f-eff5-45d7-da44-a83a058a9bb2"
   },
   "outputs": [
    {
     "name": "stdout",
     "output_type": "stream",
     "text": [
      "replace cats_and_dogs_filtered/vectorize.py? [y]es, [n]o, [A]ll, [N]one, [r]ename: "
     ]
    }
   ],
   "source": [
    "!wget -q https://storage.googleapis.com/mledu-datasets/cats_and_dogs_filtered.zip\n",
    "!unzip -q cats_and_dogs_filtered.zip"
   ]
  },
  {
   "cell_type": "code",
   "execution_count": null,
   "metadata": {
    "id": "xBojKAxTxpZw"
   },
   "outputs": [],
   "source": [
    "TRAIN_DIR = \"./cats_and_dogs_filtered/train\"\n",
    "VAL_DIR = \"./cats_and_dogs_filtered/validation\""
   ]
  },
  {
   "cell_type": "markdown",
   "metadata": {
    "id": "ca667RCpzrAE"
   },
   "source": [
    "Inspect samples from datasets."
   ]
  },
  {
   "cell_type": "code",
   "execution_count": null,
   "metadata": {
    "id": "J6n48TW6w4zY"
   },
   "outputs": [],
   "source": [
    "sample_idx = 0\n",
    "label = \"cats\"\n",
    "train_sample_fn = os.listdir(os.path.join(TRAIN_DIR, label))[sample_idx]\n",
    "train_sample_path = os.path.join(TRAIN_DIR, label, train_sample_fn)\n",
    "\n",
    "img = Image.open(train_sample_path)\n",
    "img_data = np.asarray(img)"
   ]
  },
  {
   "cell_type": "markdown",
   "metadata": {
    "id": "QO_l2ynxzz5I"
   },
   "source": [
    "**Create TF datasets** (with data augmentation in training)"
   ]
  },
  {
   "cell_type": "code",
   "execution_count": null,
   "metadata": {
    "id": "OF2Ma5nxyiRk"
   },
   "outputs": [],
   "source": [
    "IMG_SIZE = (224, 224)\n",
    "INP_SHAPE = (*IMG_SIZE, 3)\n",
    "BATCH_SIZE = 64\n",
    "\n",
    "def gen_new_data(data_folder, augmented=True):\n",
    "  if augmented:\n",
    "    data_gen = ImageDataGenerator(rescale=1./255, rotation_range=40,\n",
    "                                  width_shift_range=0.2, height_shift_range=0.2,\n",
    "                                  horizontal_flip=True)\n",
    "  else:\n",
    "    data_gen = ImageDataGenerator(rescale=1./255)\n",
    "\n",
    "  data = data_gen.flow_from_directory(\n",
    "      data_folder,\n",
    "      target_size=IMG_SIZE,\n",
    "      batch_size=BATCH_SIZE,\n",
    "      class_mode=\"binary\",\n",
    "  )\n",
    "  return data"
   ]
  },
  {
   "cell_type": "code",
   "execution_count": null,
   "metadata": {
    "id": "EacJ7PN7BC-h"
   },
   "outputs": [],
   "source": [
    "ds_train = gen_new_data(TRAIN_DIR, augmented=True)\n",
    "ds_val = gen_new_data(VAL_DIR, augmented=False)"
   ]
  },
  {
   "cell_type": "markdown",
   "metadata": {
    "id": "qe8CyjJUphSS"
   },
   "source": [
    "## Transfer learning"
   ]
  },
  {
   "cell_type": "code",
   "execution_count": null,
   "metadata": {
    "id": "hvDjlbMtpkEk"
   },
   "outputs": [],
   "source": [
    "from tensorflow.keras.models import Sequential\n",
    "from tensorflow.keras.layers import Dense\n",
    "from tensorflow.keras.layers.experimental.preprocessing import Resizing"
   ]
  },
  {
   "cell_type": "markdown",
   "metadata": {
    "id": "-S9zl_ImCKcu"
   },
   "source": [
    "### ResNet-50"
   ]
  },
  {
   "cell_type": "markdown",
   "metadata": {
    "id": "KIUft6oPpLRb"
   },
   "source": [
    "The default size of input image is 224 x 224, but not fixed."
   ]
  },
  {
   "cell_type": "code",
   "execution_count": null,
   "metadata": {
    "id": "aM_azscBid1g"
   },
   "outputs": [],
   "source": [
    "resnet_url = \"https://tfhub.dev/google/imagenet/resnet_v2_50/feature_vector/4\" \n",
    "\n",
    "resnet = Sequential()\n",
    "resnet.add(Resizing(224, 224, input_shape=INP_SHAPE))\n",
    "resnet.add(hub.KerasLayer(resnet_url, trainable=False))\n",
    "resnet.add(Dense(1, activation=\"sigmoid\"))\n",
    "resnet.summary()"
   ]
  },
  {
   "cell_type": "code",
   "execution_count": null,
   "metadata": {
    "id": "zuA0w5XMiuEC"
   },
   "outputs": [],
   "source": [
    "resnet.compile(optimizer=\"rmsprop\", loss=\"binary_crossentropy\", metrics=[\"acc\"])"
   ]
  },
  {
   "cell_type": "code",
   "execution_count": null,
   "metadata": {
    "id": "qC8-YKoHi7A-"
   },
   "outputs": [],
   "source": [
    "resnet_history = resnet.fit(ds_train, epochs=15, validation_data=ds_val)"
   ]
  },
  {
   "cell_type": "markdown",
   "metadata": {
    "id": "0oO7MO3rjxbV"
   },
   "source": [
    "### MobileNetV2"
   ]
  },
  {
   "cell_type": "markdown",
   "metadata": {
    "id": "PTQeK6a7rXxH"
   },
   "source": [
    "Size of input image is 224 x 224, fixed."
   ]
  },
  {
   "cell_type": "code",
   "execution_count": null,
   "metadata": {
    "id": "uzlSZN6tjxba"
   },
   "outputs": [],
   "source": [
    "mobilenet_url = \"https://tfhub.dev/google/tf2-preview/mobilenet_v2/feature_vector/4\" \n",
    "\n",
    "mobilenet = Sequential()\n",
    "mobilenet.add(Resizing(224, 224, input_shape=INP_SHAPE))\n",
    "mobilenet.add(hub.KerasLayer(mobilenet_url, trainable=False))\n",
    "mobilenet.add(Dense(1, activation=\"sigmoid\"))\n",
    "mobilenet.summary()"
   ]
  },
  {
   "cell_type": "code",
   "execution_count": null,
   "metadata": {
    "id": "_O5DaFwWjxbq"
   },
   "outputs": [],
   "source": [
    "mobilenet.compile(optimizer=\"rmsprop\", loss=\"binary_crossentropy\", metrics=[\"acc\"])"
   ]
  },
  {
   "cell_type": "code",
   "execution_count": null,
   "metadata": {
    "id": "Xjf5xe9Djxbz"
   },
   "outputs": [],
   "source": [
    "mobilenet_history = mobilenet.fit(ds_train, epochs=20, validation_data=ds_val)"
   ]
  }
 ],
 "metadata": {
  "accelerator": "GPU",
  "colab": {
   "authorship_tag": "ABX9TyMinXOq9OpdxU2tNKOeJNYj",
   "collapsed_sections": [],
   "name": "3_CatDog.ipynb",
   "provenance": []
  },
  "kernelspec": {
   "display_name": "Python 3",
   "language": "python",
   "name": "python3"
  },
  "language_info": {
   "codemirror_mode": {
    "name": "ipython",
    "version": 3
   },
   "file_extension": ".py",
   "mimetype": "text/x-python",
   "name": "python",
   "nbconvert_exporter": "python",
   "pygments_lexer": "ipython3",
   "version": "3.7.6"
  }
 },
 "nbformat": 4,
 "nbformat_minor": 4
}
